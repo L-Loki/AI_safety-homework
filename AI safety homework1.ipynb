{
 "cells": [
  {
   "cell_type": "code",
   "execution_count": 1,
   "metadata": {},
   "outputs": [],
   "source": [
    "#导包\n",
    "import math\n",
    "\n",
    "%matplotlib inline\n",
    "import matplotlib.pyplot as plt\n",
    "\n",
    "import numpy as np\n",
    "\n",
    "import torch\n",
    "import torch.nn as nn\n",
    "import torch.nn.functional as F\n",
    "import torch.optim as optim\n",
    "import torchvision\n",
    "import torchvision.transforms as transforms"
   ]
  },
  {
   "cell_type": "code",
   "execution_count": 2,
   "metadata": {},
   "outputs": [],
   "source": [
    "transform = transforms.Compose(\n",
    "    [transforms.ToTensor(),\n",
    "     transforms.Normalize((0.5, 0.5, 0.5), (0.5, 0.5, 0.5))])\n",
    "\n",
    "batch_size = 4\n",
    "\n",
    "trainset = torchvision.datasets.CIFAR10(root='./data', train=True,  download=False, transform=transform)\n",
    "trainloader = torch.utils.data.DataLoader(trainset, batch_size=batch_size,  shuffle=True, num_workers=2)\n",
    "testset = torchvision.datasets.CIFAR10(root='./data', train=False,  download=False, transform=transform)\n",
    "testloader = torch.utils.data.DataLoader(testset, batch_size=batch_size,  shuffle=False, num_workers=2)\n",
    "classes = ('plane', 'car', 'bird', 'cat','deer', 'dog', 'frog', 'horse', 'ship', 'truck')"
   ]
  },
  {
   "cell_type": "code",
   "execution_count": 3,
   "metadata": {},
   "outputs": [],
   "source": [
    "#展示一组示例数据\n",
    "\n",
    "#可视化函数\n",
    "def imshow(img):\n",
    "    img = img / 2 + 0.5     # unnormalize\n",
    "    npimg = img.numpy()\n",
    "    plt.imshow(np.transpose(npimg, (1, 2, 0)))\n",
    "    plt.show()"
   ]
  },
  {
   "cell_type": "code",
   "execution_count": 4,
   "metadata": {},
   "outputs": [
    {
     "data": {
      "image/png": "[encoded data removed]",
      "text/plain": [
       "<Figure size 432x288 with 1 Axes>"
      ]
     },
     "metadata": {
      "needs_background": "light"
     },
     "output_type": "display_data"
    },
    {
     "name": "stdout",
     "output_type": "stream",
     "text": [
      " bird             car            ship           horse\n"
     ]
    }
   ],
   "source": [
    "#随机获取一组训练数据\n",
    "dataiter = iter(trainloader)\n",
    "images, labels = dataiter.next()\n",
    "\n",
    "#展示图片\n",
    "imshow(torchvision.utils.make_grid(images))\n",
    "#打印标签\n",
    "print('           '.join('%5s' % classes[labels[j]] for j in range(batch_size)))"
   ]
  },
  {
   "cell_type": "code",
   "execution_count": 5,
   "metadata": {},
   "outputs": [],
   "source": [
    "\n",
    "#建立模型\n",
    "class Net(nn.Module):\n",
    "    def __init__(self,input_channel=3,h=32,w=32,hidden_channel=[6,16],conv_kernel_size=5,pool_kernel_size=2,pool_stride=2,\n",
    "                hidden_dim=[120,84],output_dim=10):\n",
    "        \"\"\"hidden_channel和hidden_dim接受int和list两种格式，其他参数只接受如示例格式\"\"\"\n",
    "        super().__init__()\n",
    "        if isinstance(hidden_channel,int):\n",
    "            hidden_channel=[hidden_channel,hidden_channel]\n",
    "        if isinstance(hidden_dim,int):\n",
    "            hidden_dim=[hidden_dim,hidden_dim]\n",
    "        self.conv1 = nn.Conv2d(input_channel,hidden_channel[0],conv_kernel_size)\n",
    "        h2=math.floor(h-conv_kernel_size+1)\n",
    "        #print(h2)\n",
    "        w2=math.floor(w-conv_kernel_size+1)\n",
    "        #print(w2)\n",
    "        self.pool = nn.MaxPool2d(pool_kernel_size,pool_stride)\n",
    "        h3=math.floor((h2-pool_kernel_size)/pool_stride+1)\n",
    "        #print(h3)\n",
    "        w3=math.floor((w2-pool_kernel_size)/pool_stride+1)\n",
    "        #print(w3)\n",
    "        self.conv2 = nn.Conv2d(hidden_channel[0],hidden_channel[1],conv_kernel_size)\n",
    "        h4=math.floor(h3-conv_kernel_size+1)\n",
    "        #print(h4)\n",
    "        w4=math.floor(w3-conv_kernel_size+1)\n",
    "        #print(w4)\n",
    "        h5=math.floor((h4-pool_kernel_size)/pool_stride+1)\n",
    "        #print(h5)\n",
    "        w5=math.floor((w4-pool_kernel_size)/pool_stride+1)\n",
    "        #print(w5)\n",
    "        self.fc1_input_dim=hidden_channel[1]*h5*w5\n",
    "        self.fc1 = nn.Linear(self.fc1_input_dim,hidden_dim[0])\n",
    "        self.fc2 = nn.Linear(hidden_dim[0],hidden_dim[1])\n",
    "        self.fc3 = nn.Linear(hidden_dim[1],output_dim)\n",
    "\n",
    "    def forward(self, x):\n",
    "        x = self.pool(F.relu(self.conv1(x)))\n",
    "        x = self.pool(F.relu(self.conv2(x)))\n",
    "        x = x.view(-1,self.fc1_input_dim)\n",
    "        x = F.relu(self.fc1(x))\n",
    "        x = F.relu(self.fc2(x))\n",
    "        x = self.fc3(x)\n",
    "        return x"
   ]
  },
  {
   "cell_type": "code",
   "execution_count": 8,
   "metadata": {},
   "outputs": [
    {
     "name": "stdout",
     "output_type": "stream",
     "text": [
      "第1个epoch上的总损失函数为：25338.639153659344\n",
      "第2个epoch上的总损失函数为：24802.11428231001\n",
      "第3个epoch上的总损失函数为：24750.51028251648\n",
      "第4个epoch上的总损失函数为：24704.955198585987\n",
      "第5个epoch上的总损失函数为：24719.455941677094\n",
      "第6个epoch上的总损失函数为：24916.954413056374\n",
      "第7个epoch上的总损失函数为：24944.046851575375\n",
      "第8个epoch上的总损失函数为：24830.312981188297\n",
      "第9个epoch上的总损失函数为：24700.013671278954\n",
      "第10个epoch上的总损失函数为：24906.223105072975\n",
      "第11个epoch上的总损失函数为：24901.216516017914\n",
      "第12个epoch上的总损失函数为：24755.372297763824\n",
      "第13个epoch上的总损失函数为：24706.961719691753\n",
      "第14个epoch上的总损失函数为：24817.198736310005\n",
      "第15个epoch上的总损失函数为：24834.534412443638\n",
      "第16个epoch上的总损失函数为：24811.84026503563\n",
      "第17个epoch上的总损失函数为：24521.42709618807\n",
      "第18个epoch上的总损失函数为：24469.2675999403\n",
      "第19个epoch上的总损失函数为：24722.06168615818\n",
      "第20个epoch上的总损失函数为：24711.359256863594\n",
      "第21个epoch上的总损失函数为：24562.361785650253\n",
      "第22个epoch上的总损失函数为：24489.673620045185\n",
      "第23个epoch上的总损失函数为：24708.68262219429\n",
      "第24个epoch上的总损失函数为：24549.172174870968\n",
      "第25个epoch上的总损失函数为：24663.796738147736\n",
      "第26个epoch上的总损失函数为：24596.913488149643\n",
      "第27个epoch上的总损失函数为：24446.183140158653\n",
      "第28个epoch上的总损失函数为：24596.688815951347\n",
      "第29个epoch上的总损失函数为：24640.716714203358\n",
      "第30个epoch上的总损失函数为：24718.41185629368\n",
      "第31个epoch上的总损失函数为：24680.994380772114\n",
      "第32个epoch上的总损失函数为：24754.391831994057\n",
      "第33个epoch上的总损失函数为：24437.235746741295\n",
      "第34个epoch上的总损失函数为：25025.906854212284\n",
      "第35个epoch上的总损失函数为：24762.769372999668\n",
      "第36个epoch上的总损失函数为：24619.870774447918\n",
      "第37个epoch上的总损失函数为：24470.38432073593\n",
      "第38个epoch上的总损失函数为：24416.399761140347\n",
      "第39个epoch上的总损失函数为：24488.582996308804\n",
      "第40个epoch上的总损失函数为：24437.19511127472\n",
      "第41个epoch上的总损失函数为：24585.346031725407\n",
      "第42个epoch上的总损失函数为：24416.21098357439\n",
      "第43个epoch上的总损失函数为：24369.56215405464\n",
      "第44个epoch上的总损失函数为：25105.94846254587\n",
      "第45个epoch上的总损失函数为：24656.540174663067\n",
      "第46个epoch上的总损失函数为：24464.9818726182\n",
      "第47个epoch上的总损失函数为：24571.131768465042\n",
      "第48个epoch上的总损失函数为：24818.534448444843\n",
      "第49个epoch上的总损失函数为：25523.433293879032\n",
      "第50个epoch上的总损失函数为：24640.87766456604\n",
      "Finished Training\n"
     ]
    }
   ],
   "source": [
    "#设置超参\n",
    "device=('cuda:0' if torch.cuda.is_available() else 'cpu')\n",
    "learning_rate=0.01\n",
    "momentum=0.9\n",
    "\n",
    "\n",
    "epoch=50\n",
    "\n",
    "\n",
    "net_hyperparameter={'hidden_channel':[6,8],'conv_kernel_size':5,'pool_kernel_size':2,'pool_stride':2,'hidden_dim':64}\n",
    "\n",
    "\n",
    "#建立pipeline\n",
    "net = Net(**net_hyperparameter)\n",
    "net.to(device)\n",
    "\n",
    "criterion = nn.CrossEntropyLoss()\n",
    "optimizer = optim.SGD(net.parameters(), lr=learning_rate, momentum=momentum)\n",
    "\n",
    "for e in range(epoch):\n",
    "#     total=0\n",
    "    total_loss = 0.0\n",
    "    for i, data in enumerate(trainloader, 0):\n",
    "        inputs, labels = data[0].to(device), data[1].to(device)\n",
    "\n",
    "        optimizer.zero_grad()\n",
    "        outputs = net(inputs)\n",
    "        loss = criterion(outputs, labels)\n",
    "        loss.backward()\n",
    "        optimizer.step()\n",
    "\n",
    "        total_loss += loss.item()\n",
    "#         total += labels.size(0)\n",
    "    print('第'+str(e+1)+'个epoch上的总损失函数为：'+str(total_loss))\n",
    "print('Finished Training')"
   ]
  },
  {
   "cell_type": "code",
   "execution_count": 9,
   "metadata": {},
   "outputs": [
    {
     "data": {
      "image/png": "[encoded data removed]",
      "text/plain": [
       "<Figure size 432x288 with 1 Axes>"
      ]
     },
     "metadata": {
      "needs_background": "light"
     },
     "output_type": "display_data"
    },
    {
     "name": "stdout",
     "output_type": "stream",
     "text": [
      "GroundTruth:   cat  ship  ship plane\n"
     ]
    }
   ],
   "source": [
    "\n",
    "#输出模型预测结果的示例\n",
    "dataiter = iter(testloader)\n",
    "images, labels = dataiter.next()\n",
    "\n",
    "# print images\n",
    "imshow(torchvision.utils.make_grid(images))\n",
    "print('GroundTruth:', ' '.join('%5s' % classes[labels[j]] for j in range(4)))"
   ]
  },
  {
   "cell_type": "code",
   "execution_count": 10,
   "metadata": {},
   "outputs": [
    {
     "name": "stdout",
     "output_type": "stream",
     "text": [
      "模型在10000张测试集图片上的准确率为：22%\n"
     ]
    }
   ],
   "source": [
    "#打印模型在测试集上的准确率\n",
    "correct = 0\n",
    "total = 0\n",
    "with torch.no_grad():\n",
    "    for data in testloader:\n",
    "        images, labels = data[0].to(device), data[1].to(device)\n",
    "        outputs = net(images)\n",
    "        _, predicted = torch.max(outputs.data, 1)\n",
    "        total += labels.size(0)\n",
    "        correct += (predicted == labels).sum().item()\n",
    "\n",
    "print('模型在'+str(total)+'张测试集图片上的准确率为：%d%%' % (100 * correct / total))"
   ]
  },
  {
   "cell_type": "code",
   "execution_count": null,
   "metadata": {},
   "outputs": [],
   "source": []
  },
  {
   "cell_type": "code",
   "execution_count": null,
   "metadata": {},
   "outputs": [],
   "source": []
  }
 ],
 "metadata": {
  "kernelspec": {
   "display_name": "Python 3",
   "language": "python",
   "name": "python3"
  },
  "language_info": {
   "codemirror_mode": {
    "name": "ipython",
    "version": 3
   },
   "file_extension": ".py",
   "mimetype": "text/x-python",
   "name": "python",
   "nbconvert_exporter": "python",
   "pygments_lexer": "ipython3",
   "version": "3.7.0"
  }
 },
 "nbformat": 4,
 "nbformat_minor": 2
}
